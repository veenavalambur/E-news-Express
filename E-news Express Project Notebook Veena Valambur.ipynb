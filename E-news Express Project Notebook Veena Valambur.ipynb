{
 "cells": [
  {
   "cell_type": "markdown",
   "id": "4af9d93a",
   "metadata": {},
   "source": [
    "# Project Business Statistics: E-news Express"
   ]
  },
  {
   "cell_type": "markdown",
   "id": "d9a33d5b",
   "metadata": {},
   "source": [
    "## Description Background:"
   ]
  },
  {
   "cell_type": "markdown",
   "id": "191eb7e4",
   "metadata": {},
   "source": [
    "\n",
    "An online news portal aims to expand its business by acquiring new subscribers. Every visitor to the website takes certain actions based on their interest. The company plans to analyze these interests and wants to determine whether a new feature will be effective or not. Companies often analyze users' responses to two variants of a product to decide which of the two variants is more effective. This experimental technique is known as a/b testing that is used to determine whether a new feature attracts users based on a chosen metric.\n",
    "\n",
    "Suppose you are hired as a Data Scientist in E-news Express. The design team of the company has created a new landing page. You have been assigned the task to decide whether the new landing page is more effective to gather new subscribers. Suppose you randomly selected 100 users and divided them equally into two groups. The old landing page is served to the first group (control group) and the new landing page is served to the second group (treatment group). Various data about the customers in both groups are collected in 'abtest.csv'. Perform the statistical analysis to answer the following questions using the collected data."
   ]
  },
  {
   "cell_type": "markdown",
   "id": "cf542494",
   "metadata": {},
   "source": [
    " ## Objective:"
   ]
  },
  {
   "cell_type": "markdown",
   "id": "b8990d60",
   "metadata": {},
   "source": [
    "* Explore the dataset and extract insights using Exploratory Data Analysis.\n",
    "* Do the users spend more time on the new landing page than the old landing page?\n",
    "* Is the conversion rate (the proportion of users who visit the landing page and get converted) for the new page greater than the conversion rate for the old page?\n",
    "* Does the converted status depend on the preferred language? \n",
    "* Is the mean time spent on the new page same for the different language users?\n",
    "* Consider a significance level of 0.05 for all tests."
   ]
  },
  {
   "cell_type": "markdown",
   "id": "a5ee1cb9",
   "metadata": {},
   "source": [
    "## Data Dictionary:\n"
   ]
  },
  {
   "cell_type": "markdown",
   "id": "30d3669e",
   "metadata": {},
   "source": [
    "\n",
    "* user_id - This represents the user ID of the person visiting the website.\n",
    "* group - This represents whether the user belongs to the first group (control) or the second group (treatment).\n",
    "* landing_page - This represents whether the landing page is new or old.\n",
    "* time_spent_on_the_page - This represents the time (in minutes) spent by the user on the landing page.\n",
    "* converted - This represents whether the user gets converted to a subscriber of the news portal or not.\n",
    "* language_preferred - This represents the language chosen by the user to view the landing page."
   ]
  },
  {
   "cell_type": "markdown",
   "id": "278f24de",
   "metadata": {},
   "source": [
    "### Import the required libraries"
   ]
  },
  {
   "cell_type": "code",
   "execution_count": 1,
   "id": "c8ddd83a",
   "metadata": {},
   "outputs": [],
   "source": [
    "#import the important packages\n",
    "import pandas as pd #library used for data manipulation and analysis\n",
    "import numpy as np # library used for working with arrays.\n",
    "import matplotlib.pyplot as plt # library for plots and visualisations\n",
    "import seaborn as sns # library for visualisations\n",
    "%matplotlib inline \n",
    "# Stats library contains a large number of probability distributions as well as a growing library of statistical functions.\n",
    "import scipy.stats as stats \n",
    "import warnings\n",
    "warnings.filterwarnings('ignore')"
   ]
  },
  {
   "cell_type": "markdown",
   "id": "fda288df",
   "metadata": {},
   "source": [
    "\n",
    "### Reading the Data into the Dataframe"
   ]
  },
  {
   "cell_type": "code",
   "execution_count": 2,
   "id": "38873920",
   "metadata": {},
   "outputs": [],
   "source": [
    "# read the data\n",
    "df = pd.read_csv('abtest.csv')"
   ]
  },
  {
   "cell_type": "markdown",
   "id": "188b20f7",
   "metadata": {},
   "source": [
    "## Understanding the structure of the data"
   ]
  },
  {
   "cell_type": "markdown",
   "id": "68575692",
   "metadata": {},
   "source": [
    "### View the first few rows of the dataset"
   ]
  },
  {
   "cell_type": "code",
   "execution_count": 3,
   "id": "d0a0dedb",
   "metadata": {},
   "outputs": [
    {
     "data": {
      "text/html": [
       "<div>\n",
       "<style scoped>\n",
       "    .dataframe tbody tr th:only-of-type {\n",
       "        vertical-align: middle;\n",
       "    }\n",
       "\n",
       "    .dataframe tbody tr th {\n",
       "        vertical-align: top;\n",
       "    }\n",
       "\n",
       "    .dataframe thead th {\n",
       "        text-align: right;\n",
       "    }\n",
       "</style>\n",
       "<table border=\"1\" class=\"dataframe\">\n",
       "  <thead>\n",
       "    <tr style=\"text-align: right;\">\n",
       "      <th></th>\n",
       "      <th>user_id</th>\n",
       "      <th>group</th>\n",
       "      <th>landing_page</th>\n",
       "      <th>time_spent_on_the_page</th>\n",
       "      <th>converted</th>\n",
       "      <th>language_preferred</th>\n",
       "    </tr>\n",
       "  </thead>\n",
       "  <tbody>\n",
       "    <tr>\n",
       "      <th>0</th>\n",
       "      <td>546592</td>\n",
       "      <td>control</td>\n",
       "      <td>old</td>\n",
       "      <td>3.48</td>\n",
       "      <td>no</td>\n",
       "      <td>Spanish</td>\n",
       "    </tr>\n",
       "    <tr>\n",
       "      <th>1</th>\n",
       "      <td>546468</td>\n",
       "      <td>treatment</td>\n",
       "      <td>new</td>\n",
       "      <td>7.13</td>\n",
       "      <td>yes</td>\n",
       "      <td>English</td>\n",
       "    </tr>\n",
       "    <tr>\n",
       "      <th>2</th>\n",
       "      <td>546462</td>\n",
       "      <td>treatment</td>\n",
       "      <td>new</td>\n",
       "      <td>4.40</td>\n",
       "      <td>no</td>\n",
       "      <td>Spanish</td>\n",
       "    </tr>\n",
       "    <tr>\n",
       "      <th>3</th>\n",
       "      <td>546567</td>\n",
       "      <td>control</td>\n",
       "      <td>old</td>\n",
       "      <td>3.02</td>\n",
       "      <td>no</td>\n",
       "      <td>French</td>\n",
       "    </tr>\n",
       "    <tr>\n",
       "      <th>4</th>\n",
       "      <td>546459</td>\n",
       "      <td>treatment</td>\n",
       "      <td>new</td>\n",
       "      <td>4.75</td>\n",
       "      <td>yes</td>\n",
       "      <td>Spanish</td>\n",
       "    </tr>\n",
       "  </tbody>\n",
       "</table>\n",
       "</div>"
      ],
      "text/plain": [
       "   user_id      group landing_page  time_spent_on_the_page converted  \\\n",
       "0   546592    control          old                    3.48        no   \n",
       "1   546468  treatment          new                    7.13       yes   \n",
       "2   546462  treatment          new                    4.40        no   \n",
       "3   546567    control          old                    3.02        no   \n",
       "4   546459  treatment          new                    4.75       yes   \n",
       "\n",
       "  language_preferred  \n",
       "0            Spanish  \n",
       "1            English  \n",
       "2            Spanish  \n",
       "3             French  \n",
       "4            Spanish  "
      ]
     },
     "execution_count": 3,
     "metadata": {},
     "output_type": "execute_result"
    }
   ],
   "source": [
    "# returns the first 5 rows\n",
    "df.head()"
   ]
  },
  {
   "cell_type": "markdown",
   "id": "3fd5ad51",
   "metadata": {},
   "source": [
    "#### Observations:\n",
    "\n",
    "The DataFrame has 6 columns as mentioned in the Data Dictionary. Data in each row corresponds to the information pertaining to each user."
   ]
  },
  {
   "cell_type": "markdown",
   "id": "f11a5b55",
   "metadata": {},
   "source": [
    "### Check the shape of the dataset"
   ]
  },
  {
   "cell_type": "code",
   "execution_count": 4,
   "id": "1e16165a",
   "metadata": {},
   "outputs": [
    {
     "data": {
      "text/plain": [
       "(100, 6)"
      ]
     },
     "execution_count": 4,
     "metadata": {},
     "output_type": "execute_result"
    }
   ],
   "source": [
    "# check the shape of the dataset\n",
    "df.shape"
   ]
  },
  {
   "cell_type": "markdown",
   "id": "a3fc26c1",
   "metadata": {},
   "source": [
    "#### Observations:\n",
    "\n",
    "* The DataFrame has 100 rows and 6 columns."
   ]
  },
  {
   "cell_type": "markdown",
   "id": "2ad0ccd6",
   "metadata": {},
   "source": [
    "### Check the info()"
   ]
  },
  {
   "cell_type": "code",
   "execution_count": 5,
   "id": "75636289",
   "metadata": {
    "scrolled": true
   },
   "outputs": [
    {
     "name": "stdout",
     "output_type": "stream",
     "text": [
      "<class 'pandas.core.frame.DataFrame'>\n",
      "RangeIndex: 100 entries, 0 to 99\n",
      "Data columns (total 6 columns):\n",
      " #   Column                  Non-Null Count  Dtype  \n",
      "---  ------                  --------------  -----  \n",
      " 0   user_id                 100 non-null    int64  \n",
      " 1   group                   100 non-null    object \n",
      " 2   landing_page            100 non-null    object \n",
      " 3   time_spent_on_the_page  100 non-null    float64\n",
      " 4   converted               100 non-null    object \n",
      " 5   language_preferred      100 non-null    object \n",
      "dtypes: float64(1), int64(1), object(4)\n",
      "memory usage: 4.8+ KB\n"
     ]
    }
   ],
   "source": [
    "# use info() to print a concise summary of the DataFrame\n",
    "df.info()"
   ]
  },
  {
   "cell_type": "markdown",
   "id": "b2d7c709",
   "metadata": {},
   "source": [
    "#### Observations:\n",
    "* There are a total of 100 non-null observations in each of the columns.\n",
    "\n",
    "* The dataset contains 6 columns: 4 are of object type ('group', 'landing_page', 'converted ', 'language_preferred '), 1 is of integer type ('user_id ') and 1 is of the float type ('time_spent_on_the_page').\n",
    "\n",
    "* Total memory usage is approximately 4.8+ KB."
   ]
  },
  {
   "cell_type": "markdown",
   "id": "7b3e9d62",
   "metadata": {},
   "source": [
    "## Data Preprocessing"
   ]
  },
  {
   "cell_type": "code",
   "execution_count": 6,
   "id": "1293ddd9",
   "metadata": {},
   "outputs": [
    {
     "data": {
      "text/plain": [
       "user_id                   0\n",
       "group                     0\n",
       "landing_page              0\n",
       "time_spent_on_the_page    0\n",
       "converted                 0\n",
       "language_preferred        0\n",
       "dtype: int64"
      ]
     },
     "execution_count": 6,
     "metadata": {},
     "output_type": "execute_result"
    }
   ],
   "source": [
    "# checking for missing values\n",
    "df.isnull().sum()"
   ]
  },
  {
   "cell_type": "markdown",
   "id": "956ff33c",
   "metadata": {},
   "source": [
    "#### Observations:\n",
    "* There are no missing values in the dataset."
   ]
  },
  {
   "cell_type": "markdown",
   "id": "296a3db9",
   "metadata": {},
   "source": [
    "### Fixing the datatypes"
   ]
  },
  {
   "cell_type": "code",
   "execution_count": 7,
   "id": "201883e4",
   "metadata": {},
   "outputs": [
    {
     "name": "stdout",
     "output_type": "stream",
     "text": [
      "<class 'pandas.core.frame.DataFrame'>\n",
      "RangeIndex: 100 entries, 0 to 99\n",
      "Data columns (total 6 columns):\n",
      " #   Column                  Non-Null Count  Dtype   \n",
      "---  ------                  --------------  -----   \n",
      " 0   user_id                 100 non-null    int64   \n",
      " 1   group                   100 non-null    category\n",
      " 2   landing_page            100 non-null    category\n",
      " 3   time_spent_on_the_page  100 non-null    float64 \n",
      " 4   converted               100 non-null    category\n",
      " 5   language_preferred      100 non-null    category\n",
      "dtypes: category(4), float64(1), int64(1)\n",
      "memory usage: 2.6 KB\n"
     ]
    }
   ],
   "source": [
    "# coverting \"objects\" to \"category\" reduces the data space required to store the dataframe\n",
    "# converting 'group', 'landing_page', 'converted' and 'language_preferred' into categorical data\n",
    "\n",
    "df.group = df.group.astype('category')     # Convert group from object to category\n",
    "df.landing_page = df.landing_page.astype('category')           # Convert landing_page from object to category\n",
    "df.converted = df.converted.astype('category')     # Convert converted from object to category\n",
    "df.language_preferred = df.language_preferred.astype('category')     # Convert language_preferred from object to category\n",
    "\n",
    "# use info() to print a concise summary of the DataFrame\n",
    "df.info()"
   ]
  },
  {
   "cell_type": "markdown",
   "id": "3dcd683d",
   "metadata": {},
   "source": [
    "#### Observations:\n",
    "* 'group', 'landing_page', 'converted' and 'language_preferred' are now converted into categorical data\n",
    "* The total memory usage has reduced from 4.86+ KB to 2.6 KB"
   ]
  },
  {
   "cell_type": "markdown",
   "id": "668d4b2e",
   "metadata": {},
   "source": [
    "### Statistical Summary of the dataset"
   ]
  },
  {
   "cell_type": "code",
   "execution_count": 8,
   "id": "ba478a9b",
   "metadata": {},
   "outputs": [
    {
     "data": {
      "text/html": [
       "<div>\n",
       "<style scoped>\n",
       "    .dataframe tbody tr th:only-of-type {\n",
       "        vertical-align: middle;\n",
       "    }\n",
       "\n",
       "    .dataframe tbody tr th {\n",
       "        vertical-align: top;\n",
       "    }\n",
       "\n",
       "    .dataframe thead th {\n",
       "        text-align: right;\n",
       "    }\n",
       "</style>\n",
       "<table border=\"1\" class=\"dataframe\">\n",
       "  <thead>\n",
       "    <tr style=\"text-align: right;\">\n",
       "      <th></th>\n",
       "      <th>user_id</th>\n",
       "      <th>time_spent_on_the_page</th>\n",
       "    </tr>\n",
       "  </thead>\n",
       "  <tbody>\n",
       "    <tr>\n",
       "      <th>count</th>\n",
       "      <td>100.000000</td>\n",
       "      <td>100.000000</td>\n",
       "    </tr>\n",
       "    <tr>\n",
       "      <th>mean</th>\n",
       "      <td>546517.000000</td>\n",
       "      <td>5.377800</td>\n",
       "    </tr>\n",
       "    <tr>\n",
       "      <th>std</th>\n",
       "      <td>52.295779</td>\n",
       "      <td>2.378166</td>\n",
       "    </tr>\n",
       "    <tr>\n",
       "      <th>min</th>\n",
       "      <td>546443.000000</td>\n",
       "      <td>0.190000</td>\n",
       "    </tr>\n",
       "    <tr>\n",
       "      <th>25%</th>\n",
       "      <td>546467.750000</td>\n",
       "      <td>3.880000</td>\n",
       "    </tr>\n",
       "    <tr>\n",
       "      <th>50%</th>\n",
       "      <td>546492.500000</td>\n",
       "      <td>5.415000</td>\n",
       "    </tr>\n",
       "    <tr>\n",
       "      <th>75%</th>\n",
       "      <td>546567.250000</td>\n",
       "      <td>7.022500</td>\n",
       "    </tr>\n",
       "    <tr>\n",
       "      <th>max</th>\n",
       "      <td>546592.000000</td>\n",
       "      <td>10.710000</td>\n",
       "    </tr>\n",
       "  </tbody>\n",
       "</table>\n",
       "</div>"
      ],
      "text/plain": [
       "             user_id  time_spent_on_the_page\n",
       "count     100.000000              100.000000\n",
       "mean   546517.000000                5.377800\n",
       "std        52.295779                2.378166\n",
       "min    546443.000000                0.190000\n",
       "25%    546467.750000                3.880000\n",
       "50%    546492.500000                5.415000\n",
       "75%    546567.250000                7.022500\n",
       "max    546592.000000               10.710000"
      ]
     },
     "execution_count": 8,
     "metadata": {},
     "output_type": "execute_result"
    }
   ],
   "source": [
    "# get the summary statistics of the numerical data\n",
    "df.describe()"
   ]
  },
  {
   "cell_type": "markdown",
   "id": "df0ea8b9",
   "metadata": {},
   "source": [
    "#### Observations:\n",
    "* user_id is just an identifier.\n",
    "* On an average, a customer is spending just over 5 minutes on the landing page.\n",
    "* As observed, mean and median are almost of the same value suggesting a normal distribution for the data.\n",
    "* 75% of the customers are spending less than 7 minutes on the landing page.\n",
    "* There are customers on both sides of the spectrum spending less than a minute to almost 10 minutes."
   ]
  },
  {
   "cell_type": "code",
   "execution_count": 9,
   "id": "1d95f82c",
   "metadata": {},
   "outputs": [
    {
     "data": {
      "text/html": [
       "<div>\n",
       "<style scoped>\n",
       "    .dataframe tbody tr th:only-of-type {\n",
       "        vertical-align: middle;\n",
       "    }\n",
       "\n",
       "    .dataframe tbody tr th {\n",
       "        vertical-align: top;\n",
       "    }\n",
       "\n",
       "    .dataframe thead th {\n",
       "        text-align: right;\n",
       "    }\n",
       "</style>\n",
       "<table border=\"1\" class=\"dataframe\">\n",
       "  <thead>\n",
       "    <tr style=\"text-align: right;\">\n",
       "      <th></th>\n",
       "      <th>group</th>\n",
       "      <th>landing_page</th>\n",
       "      <th>converted</th>\n",
       "      <th>language_preferred</th>\n",
       "    </tr>\n",
       "  </thead>\n",
       "  <tbody>\n",
       "    <tr>\n",
       "      <th>count</th>\n",
       "      <td>100</td>\n",
       "      <td>100</td>\n",
       "      <td>100</td>\n",
       "      <td>100</td>\n",
       "    </tr>\n",
       "    <tr>\n",
       "      <th>unique</th>\n",
       "      <td>2</td>\n",
       "      <td>2</td>\n",
       "      <td>2</td>\n",
       "      <td>3</td>\n",
       "    </tr>\n",
       "    <tr>\n",
       "      <th>top</th>\n",
       "      <td>control</td>\n",
       "      <td>new</td>\n",
       "      <td>yes</td>\n",
       "      <td>French</td>\n",
       "    </tr>\n",
       "    <tr>\n",
       "      <th>freq</th>\n",
       "      <td>50</td>\n",
       "      <td>50</td>\n",
       "      <td>54</td>\n",
       "      <td>34</td>\n",
       "    </tr>\n",
       "  </tbody>\n",
       "</table>\n",
       "</div>"
      ],
      "text/plain": [
       "          group landing_page converted language_preferred\n",
       "count       100          100       100                100\n",
       "unique        2            2         2                  3\n",
       "top     control          new       yes             French\n",
       "freq         50           50        54                 34"
      ]
     },
     "execution_count": 9,
     "metadata": {},
     "output_type": "execute_result"
    }
   ],
   "source": [
    "# get the summary statistics of the non numerical data\n",
    "df.describe(exclude=[np.number])"
   ]
  },
  {
   "cell_type": "markdown",
   "id": "c038f37f",
   "metadata": {},
   "source": [
    "#### Observations:\n",
    "* Users are divided equally into two groups - control and treatment.\n",
    "* They are having a one-on-one relationship with the landing page: control group is aligned to old landing page while the treatment group to new landing page, as described in the background.\n",
    "* There are more converted users than non-converted.\n",
    "* There are 3 languages available as per the data in the landing page, out of which French is the most preferred language by the users. As this is a snapshot, an in-depth analysis would give us further insight into the data."
   ]
  },
  {
   "cell_type": "markdown",
   "id": "d8696a45",
   "metadata": {},
   "source": [
    "## Exploratory Data Analysis (EDA)"
   ]
  },
  {
   "cell_type": "markdown",
   "id": "8bc9d92a",
   "metadata": {},
   "source": [
    "#### Function to plot a boxplot and a histogram along the same scale"
   ]
  },
  {
   "cell_type": "code",
   "execution_count": 10,
   "id": "c424ee2f",
   "metadata": {},
   "outputs": [],
   "source": [
    "def histogram_boxplot(data, feature, title, xlabel, figsize=(12, 7), kde=True, bins=None):\n",
    "    \"\"\"\n",
    "    Boxplot and histogram combined\n",
    "\n",
    "    data: dataframe\n",
    "    feature: dataframe column\n",
    "    figsize: size of figure (default (12,7))\n",
    "    kde: whether to show the density curve (default False)\n",
    "    bins: number of bins for histogram (default None)\n",
    "    \"\"\"\n",
    "    f2, (ax_box2, ax_hist2) = plt.subplots(\n",
    "        nrows=2,  # Number of rows of the subplot grid= 2\n",
    "        sharex=True,  # x-axis will be shared among all subplots\n",
    "        gridspec_kw={\"height_ratios\": (0.25, 0.75)},\n",
    "        figsize=figsize,\n",
    "    )  # creating the 2 subplots\n",
    "    sns.boxplot(\n",
    "        data=data, x=feature, ax=ax_box2, showmeans=True, color=\"grey\"\n",
    "    ).set(title=title, xlabel=xlabel)  # boxplot will be created and a star will indicate the mean value of the column\n",
    "    sns.histplot(\n",
    "        data=data, x=feature, kde=kde, ax=ax_hist2, bins=bins, palette=\"winter\"\n",
    "    ) if bins else sns.histplot(\n",
    "        data=data, x=feature, kde=kde, ax=ax_hist2\n",
    "    ).set(xlabel=xlabel)  # For histogram\n",
    "    ax_hist2.axvline(\n",
    "        data[feature].mean(), color=\"green\", linestyle=\"--\"\n",
    "    )  # Add mean to the histogram\n",
    "    ax_hist2.axvline(\n",
    "        data[feature].median(), color=\"black\", linestyle=\"-\"\n",
    "    )  # Add median to the histogram"
   ]
  },
  {
   "cell_type": "markdown",
   "id": "cf56a5fe",
   "metadata": {},
   "source": [
    "#### Function to create labeled barplots"
   ]
  },
  {
   "cell_type": "code",
   "execution_count": 11,
   "id": "4cb36ae4",
   "metadata": {},
   "outputs": [],
   "source": [
    "def labeled_barplot(data, feature, title, xlabel, ylabel, perc=False, n=None):\n",
    "    \"\"\"\n",
    "    Barplot with percentage at the top\n",
    "\n",
    "    data: dataframe\n",
    "    feature: dataframe column\n",
    "    perc: whether to display percentages instead of count (default is False)\n",
    "    n: displays the top n category levels (default is None, i.e., display all levels)\n",
    "    \"\"\"\n",
    "\n",
    "    total = len(data[feature])  # length of the column\n",
    "    count = data[feature].nunique()\n",
    "    if n is None:\n",
    "        plt.figure(figsize=(count + 1, 5))\n",
    "    else:\n",
    "        plt.figure(figsize=(n + 1, 5))\n",
    "\n",
    "    plt.xticks(rotation=90, fontsize=15)\n",
    "    ax = sns.countplot(\n",
    "        data=data,\n",
    "        x=feature,\n",
    "        palette=\"Paired\",\n",
    "        order=data[feature].value_counts().index[:n].sort_values(),\n",
    "    )\n",
    "\n",
    "    for p in ax.patches:\n",
    "        if perc == True:\n",
    "            label = \"{:.1f}%\".format(\n",
    "                100 * p.get_height() / total\n",
    "            )  # percentage of each class of the category\n",
    "        else:\n",
    "            label = p.get_height()  # count of each level of the category\n",
    "\n",
    "        x = p.get_x() + p.get_width() / 2  # width of the plot\n",
    "        y = p.get_height()  # height of the plot\n",
    "\n",
    "        ax.annotate(\n",
    "            label,\n",
    "            (x, y),\n",
    "            ha=\"center\",\n",
    "            va=\"center\",\n",
    "            size=12,\n",
    "            xytext=(0, 5),\n",
    "            textcoords=\"offset points\",\n",
    "        )  # annotate the percentage\n",
    "    plt.title(title)\n",
    "    plt.xlabel(xlabel)\n",
    "    plt.ylabel(ylabel)\n",
    "    plt.show()  # show the plot"
   ]
  },
  {
   "cell_type": "markdown",
   "id": "1bac7741",
   "metadata": {},
   "source": [
    "## Univariate Analysis\n",
    "#### By stats and plots"
   ]
  },
  {
   "cell_type": "markdown",
   "id": "59aacd18",
   "metadata": {},
   "source": [
    "## User ID"
   ]
  },
  {
   "cell_type": "code",
   "execution_count": 12,
   "id": "128c9a45",
   "metadata": {},
   "outputs": [
    {
     "data": {
      "text/plain": [
       "(100,)"
      ]
     },
     "execution_count": 12,
     "metadata": {},
     "output_type": "execute_result"
    }
   ],
   "source": [
    "# check unique user_id\n",
    "df['user_id'].value_counts().shape"
   ]
  },
  {
   "cell_type": "markdown",
   "id": "e2369539",
   "metadata": {},
   "source": [
    "#### Observations:\n",
    "* There are no repeat IDs and we can say that each user is unique."
   ]
  },
  {
   "cell_type": "markdown",
   "id": "4f2533e8",
   "metadata": {},
   "source": [
    "## Group "
   ]
  },
  {
   "cell_type": "code",
   "execution_count": 13,
   "id": "2daf60f9",
   "metadata": {},
   "outputs": [
    {
     "data": {
      "text/plain": [
       "control      50\n",
       "treatment    50\n",
       "Name: group, dtype: int64"
      ]
     },
     "execution_count": 13,
     "metadata": {},
     "output_type": "execute_result"
    }
   ],
   "source": [
    "# check the unique values\n",
    "df['group'].value_counts()"
   ]
  },
  {
   "cell_type": "code",
   "execution_count": 14,
   "id": "b7f6a76a",
   "metadata": {},
   "outputs": [
    {
     "data": {
      "image/png": "[encoded data removed]",
      "text/plain": [
       "<Figure size 216x360 with 1 Axes>"
      ]
     },
     "metadata": {
      "needs_background": "light"
     },
     "output_type": "display_data"
    }
   ],
   "source": [
    "# Using the labeled_barplot function\n",
    "labeled_barplot(df, 'group', 'Classification of Groups', 'Group', 'Frequency', perc=True)"
   ]
  },
  {
   "cell_type": "markdown",
   "id": "59045213",
   "metadata": {},
   "source": [
    "#### Observations:\n",
    "* As mentioned in the background, the users are divided into two equal groups of 50."
   ]
  },
  {
   "cell_type": "markdown",
   "id": "643821f5",
   "metadata": {},
   "source": [
    "## Landing Page             "
   ]
  },
  {
   "cell_type": "code",
   "execution_count": 15,
   "id": "c06fa72e",
   "metadata": {},
   "outputs": [
    {
     "data": {
      "text/plain": [
       "new    50\n",
       "old    50\n",
       "Name: landing_page, dtype: int64"
      ]
     },
     "execution_count": 15,
     "metadata": {},
     "output_type": "execute_result"
    }
   ],
   "source": [
    "# check the unique values\n",
    "df['landing_page'].value_counts()"
   ]
  },
  {
   "cell_type": "code",
   "execution_count": 16,
   "id": "fb2b1b8f",
   "metadata": {},
   "outputs": [
    {
     "data": {
      "image/png": "[encoded data removed]",
      "text/plain": [
       "<Figure size 216x360 with 1 Axes>"
      ]
     },
     "metadata": {
      "needs_background": "light"
     },
     "output_type": "display_data"
    }
   ],
   "source": [
    "# Using the labeled_barplot function\n",
    "labeled_barplot(df, 'landing_page', 'Classification of Landing Page', 'Landing Page', 'Frequency', perc=True)"
   ]
  },
  {
   "cell_type": "markdown",
   "id": "9ffc5198",
   "metadata": {},
   "source": [
    "#### Observations:\n",
    "* As observered before, the users are distributed between the old and new landing page equally."
   ]
  },
  {
   "cell_type": "markdown",
   "id": "db0419f6",
   "metadata": {},
   "source": [
    "## Time Spent on the Page           "
   ]
  },
  {
   "cell_type": "code",
   "execution_count": 17,
   "id": "898113f7",
   "metadata": {},
   "outputs": [
    {
     "data": {
      "text/plain": [
       "count    100.000000\n",
       "mean       5.377800\n",
       "std        2.378166\n",
       "min        0.190000\n",
       "25%        3.880000\n",
       "50%        5.415000\n",
       "75%        7.022500\n",
       "max       10.710000\n",
       "Name: time_spent_on_the_page, dtype: float64"
      ]
     },
     "execution_count": 17,
     "metadata": {},
     "output_type": "execute_result"
    }
   ],
   "source": [
    "# check the unique values\n",
    "df['time_spent_on_the_page'].describe()"
   ]
  },
  {
   "cell_type": "code",
   "execution_count": 18,
   "id": "b9e9c2d6",
   "metadata": {
    "scrolled": false
   },
   "outputs": [
    {
     "data": {
      "image/png": "[encoded data removed]",
      "text/plain": [
       "<Figure size 864x504 with 2 Axes>"
      ]
     },
     "metadata": {
      "needs_background": "light"
     },
     "output_type": "display_data"
    }
   ],
   "source": [
    "# Using the histogram_boxplot function\n",
    "histogram_boxplot(df, 'time_spent_on_the_page', 'Distribution of Time Spent on the Page', 'Time Spent on the Page')\n",
    "plt.savefig('time',dpi=300,bbox_inches='tight')"
   ]
  },
  {
   "cell_type": "markdown",
   "id": "3ba3be65",
   "metadata": {},
   "source": [
    "#### Observations:\n",
    "* Mean and median values for this parameter are close together, as seen in the statistics.\n",
    "* The above said observation and the nature of the distribution describes the sample to be of normal distribution. Thus we can assume that the population from which this sample came is also of normal distribution."
   ]
  },
  {
   "cell_type": "markdown",
   "id": "ef3870e9",
   "metadata": {},
   "source": [
    "#### Number of users more than the mean amount of time on the landing page."
   ]
  },
  {
   "cell_type": "code",
   "execution_count": 19,
   "id": "c771ae14",
   "metadata": {},
   "outputs": [
    {
     "name": "stdout",
     "output_type": "stream",
     "text": [
      "The number of persons whose time spent on the page more than mean is: 53\n",
      "Percentage : 53.0 %\n"
     ]
    }
   ],
   "source": [
    "# Find customers whose time_spent_on_the_page is more than the mean\n",
    "df_greater_than_mean = df[df['time_spent_on_the_page'] > df['time_spent_on_the_page'].mean()]\n",
    "\n",
    "# Calculate the number of persons whose time_spent_on_the_page is more than mean\n",
    "\n",
    "print('The number of persons whose time spent on the page more than mean is:', df_greater_than_mean.shape[0])\n",
    "\n",
    "# Calculate percentage \n",
    "percentage = (df_greater_than_mean.shape[0] / df.shape[0]) * 100\n",
    "\n",
    "print(\"Percentage :\", round(percentage, 2), '%')"
   ]
  },
  {
   "cell_type": "code",
   "execution_count": 20,
   "id": "2352580a",
   "metadata": {},
   "outputs": [
    {
     "data": {
      "text/plain": [
       "new    34\n",
       "old    19\n",
       "Name: landing_page, dtype: int64"
      ]
     },
     "execution_count": 20,
     "metadata": {},
     "output_type": "execute_result"
    }
   ],
   "source": [
    "# Finding the number of users categorized by old or new landing page in the set of users who spend more than\n",
    "# the average time spent.\n",
    "df_greater_than_mean['landing_page'].value_counts()"
   ]
  },
  {
   "cell_type": "markdown",
   "id": "30b93039",
   "metadata": {},
   "source": [
    "#### Observations:\n",
    "* More than 60% of the users, who spent more than the mean amount of time spend on the landing page, are of the treatment group or uses the new landing page."
   ]
  },
  {
   "cell_type": "code",
   "execution_count": 21,
   "id": "8ead1a3e",
   "metadata": {},
   "outputs": [
    {
     "data": {
      "text/plain": [
       "yes    43\n",
       "no     10\n",
       "Name: converted, dtype: int64"
      ]
     },
     "execution_count": 21,
     "metadata": {},
     "output_type": "execute_result"
    }
   ],
   "source": [
    "# Finding the number of users who got converted in the set of users who spend more than the average time spent.\n",
    "df_greater_than_mean['converted'].value_counts()"
   ]
  },
  {
   "cell_type": "markdown",
   "id": "0441e93a",
   "metadata": {},
   "source": [
    "#### Observations:\n",
    "* The above stats tell us that when a user spend more amount of time on the landing page they tend to get converted to subscribers."
   ]
  },
  {
   "cell_type": "code",
   "execution_count": 22,
   "id": "f77db014",
   "metadata": {},
   "outputs": [
    {
     "data": {
      "text/html": [
       "<div>\n",
       "<style scoped>\n",
       "    .dataframe tbody tr th:only-of-type {\n",
       "        vertical-align: middle;\n",
       "    }\n",
       "\n",
       "    .dataframe tbody tr th {\n",
       "        vertical-align: top;\n",
       "    }\n",
       "\n",
       "    .dataframe thead th {\n",
       "        text-align: right;\n",
       "    }\n",
       "</style>\n",
       "<table border=\"1\" class=\"dataframe\">\n",
       "  <thead>\n",
       "    <tr style=\"text-align: right;\">\n",
       "      <th></th>\n",
       "      <th>user_id</th>\n",
       "      <th>group</th>\n",
       "      <th>landing_page</th>\n",
       "      <th>time_spent_on_the_page</th>\n",
       "      <th>converted</th>\n",
       "      <th>language_preferred</th>\n",
       "    </tr>\n",
       "  </thead>\n",
       "  <tbody>\n",
       "    <tr>\n",
       "      <th>8</th>\n",
       "      <td>546461</td>\n",
       "      <td>treatment</td>\n",
       "      <td>new</td>\n",
       "      <td>10.71</td>\n",
       "      <td>yes</td>\n",
       "      <td>French</td>\n",
       "    </tr>\n",
       "  </tbody>\n",
       "</table>\n",
       "</div>"
      ],
      "text/plain": [
       "   user_id      group landing_page  time_spent_on_the_page converted  \\\n",
       "8   546461  treatment          new                   10.71       yes   \n",
       "\n",
       "  language_preferred  \n",
       "8             French  "
      ]
     },
     "execution_count": 22,
     "metadata": {},
     "output_type": "execute_result"
    }
   ],
   "source": [
    "#Find the user_id which has maximum time_spent_on_the_page\n",
    "df[df['time_spent_on_the_page']==df['time_spent_on_the_page'].max()]"
   ]
  },
  {
   "cell_type": "markdown",
   "id": "b0c78a3f",
   "metadata": {},
   "source": [
    "#### Observations:\n",
    "* The user who has spent the most amount of time on the landing page was using the French language and has converted to a subscriber"
   ]
  },
  {
   "cell_type": "markdown",
   "id": "aafb06dd",
   "metadata": {},
   "source": [
    "## Number of users who are now converted"
   ]
  },
  {
   "cell_type": "code",
   "execution_count": 23,
   "id": "dbb57432",
   "metadata": {},
   "outputs": [
    {
     "data": {
      "text/plain": [
       "yes    54\n",
       "no     46\n",
       "Name: converted, dtype: int64"
      ]
     },
     "execution_count": 23,
     "metadata": {},
     "output_type": "execute_result"
    }
   ],
   "source": [
    "# check the unique values\n",
    "df['converted'].value_counts()"
   ]
  },
  {
   "cell_type": "code",
   "execution_count": 24,
   "id": "15c4323b",
   "metadata": {
    "scrolled": false
   },
   "outputs": [
    {
     "data": {
      "image/png": "[encoded data removed]",
      "text/plain": [
       "<Figure size 216x360 with 1 Axes>"
      ]
     },
     "metadata": {
      "needs_background": "light"
     },
     "output_type": "display_data"
    }
   ],
   "source": [
    "# Using the labeled_barplot function\n",
    "labeled_barplot(df, 'converted', 'Distribution of Conversion', 'Converted?', 'Frequency', perc=True)"
   ]
  },
  {
   "cell_type": "markdown",
   "id": "ffe02e7a",
   "metadata": {},
   "source": [
    "#### Observations:\n",
    "* 54% of the total users chose to be subscribers after visiting the landing page irrespective of the page being old or new."
   ]
  },
  {
   "cell_type": "markdown",
   "id": "0b2038f2",
   "metadata": {},
   "source": [
    "## Preferred Language"
   ]
  },
  {
   "cell_type": "code",
   "execution_count": 25,
   "id": "8659934b",
   "metadata": {},
   "outputs": [
    {
     "data": {
      "text/plain": [
       "French     34\n",
       "Spanish    34\n",
       "English    32\n",
       "Name: language_preferred, dtype: int64"
      ]
     },
     "execution_count": 25,
     "metadata": {},
     "output_type": "execute_result"
    }
   ],
   "source": [
    "# check the unique values\n",
    "df['language_preferred'].value_counts()"
   ]
  },
  {
   "cell_type": "code",
   "execution_count": 26,
   "id": "b7916ddd",
   "metadata": {
    "scrolled": false
   },
   "outputs": [
    {
     "data": {
      "image/png": "[encoded data removed]",
      "text/plain": [
       "<Figure size 288x360 with 1 Axes>"
      ]
     },
     "metadata": {
      "needs_background": "light"
     },
     "output_type": "display_data"
    }
   ],
   "source": [
    "# Using the labeled_barplot function\n",
    "labeled_barplot(df, 'language_preferred', 'Distribution of Preferred Language', 'Language', 'Frequency', perc=True)"
   ]
  },
  {
   "cell_type": "markdown",
   "id": "05354a66",
   "metadata": {},
   "source": [
    "#### Observations:\n",
    "* As noted before, even though we saw French to have the most number of users, now we can see that there are equal number of users for French and Spanish. \n",
    "* Even then there is no notable difference in the number of users for the three languages that are being offered by the company."
   ]
  },
  {
   "cell_type": "markdown",
   "id": "71fdbaab",
   "metadata": {},
   "source": [
    "## Multivariate Analysis"
   ]
  },
  {
   "cell_type": "markdown",
   "id": "e6329a07",
   "metadata": {},
   "source": [
    "## Relationship between Groups and Time spent"
   ]
  },
  {
   "cell_type": "code",
   "execution_count": 27,
   "id": "c59b0df9",
   "metadata": {},
   "outputs": [
    {
     "data": {
      "image/png": "[encoded data removed]",
      "text/plain": [
       "<Figure size 1080x504 with 1 Axes>"
      ]
     },
     "metadata": {
      "needs_background": "light"
     },
     "output_type": "display_data"
    }
   ],
   "source": [
    "plt.figure(figsize=(15,7)) # Applying size of the figure\n",
    "sns.boxplot(x = \"group\", y = \"time_spent_on_the_page\", data = df, palette = 'PuBu') # Using boxplot from Seaborn\n",
    "plt.xticks(rotation = 60)\n",
    "plt.title('Relationship between Groups and Time spent')\n",
    "plt.xlabel('Group')\n",
    "plt.ylabel('Time Spent on the Page')\n",
    "plt.show()"
   ]
  },
  {
   "cell_type": "markdown",
   "id": "0e90d2f0",
   "metadata": {},
   "source": [
    "#### Observations:\n",
    "* The users in the treatment group, who are using the new landing page, are spending more time on their page.\n",
    "* Average time spent by the treatment group is higher than the average time spent by control group."
   ]
  },
  {
   "cell_type": "markdown",
   "id": "9caf8157",
   "metadata": {},
   "source": [
    "### Relationship between landing page and time spent on the page"
   ]
  },
  {
   "cell_type": "code",
   "execution_count": 28,
   "id": "b3a68042",
   "metadata": {},
   "outputs": [
    {
     "data": {
      "image/png": "[encoded data removed]",
      "text/plain": [
       "<Figure size 1080x504 with 1 Axes>"
      ]
     },
     "metadata": {
      "needs_background": "light"
     },
     "output_type": "display_data"
    }
   ],
   "source": [
    "plt.figure(figsize=(15,7))\n",
    "sns.boxplot(x = \"landing_page\", y = \"time_spent_on_the_page\", data = df, palette = 'PuBu')\n",
    "plt.xticks(rotation = 60)\n",
    "plt.title('Relationship between Landing Page and Time spent')\n",
    "plt.xlabel('Landing Page')\n",
    "plt.ylabel('Time Spent on the Page')\n",
    "plt.show()"
   ]
  },
  {
   "cell_type": "markdown",
   "id": "ce73c898",
   "metadata": {},
   "source": [
    "#### Observations:\n",
    "* Users spent more time on the new landing page than the old page.\n",
    "* This could be seen in the relationship between groups and time spent as groups have a one-to-one relation with landing page."
   ]
  },
  {
   "cell_type": "markdown",
   "id": "acd7cba7",
   "metadata": {},
   "source": [
    "### Relationship between converted and  time spent on the page"
   ]
  },
  {
   "cell_type": "code",
   "execution_count": 29,
   "id": "44943878",
   "metadata": {},
   "outputs": [
    {
     "data": {
      "image/png": "[encoded data removed]",
      "text/plain": [
       "<Figure size 1080x504 with 1 Axes>"
      ]
     },
     "metadata": {
      "needs_background": "light"
     },
     "output_type": "display_data"
    }
   ],
   "source": [
    "plt.figure(figsize=(15,7))\n",
    "sns.boxplot(x = \"converted\", y = \"time_spent_on_the_page\", data = df, palette = 'PuBu')\n",
    "plt.xticks(rotation = 60)\n",
    "plt.title('Relationship between Converted and Time spent')\n",
    "plt.xlabel('Converted')\n",
    "plt.ylabel('Time Spent on the Page')\n",
    "plt.show()"
   ]
  },
  {
   "cell_type": "markdown",
   "id": "40ddd1ab",
   "metadata": {},
   "source": [
    "#### Observations:\n",
    "* The average time spent by users who are converting themselves to subscribers are more than the ones who are not."
   ]
  },
  {
   "cell_type": "markdown",
   "id": "345d691c",
   "metadata": {},
   "source": [
    "### Relationship between preferred language and time spent on the page"
   ]
  },
  {
   "cell_type": "code",
   "execution_count": 30,
   "id": "258742b2",
   "metadata": {},
   "outputs": [
    {
     "data": {
      "image/png": "[encoded data removed]",
      "text/plain": [
       "<Figure size 1080x504 with 1 Axes>"
      ]
     },
     "metadata": {
      "needs_background": "light"
     },
     "output_type": "display_data"
    }
   ],
   "source": [
    "plt.figure(figsize=(15,7))\n",
    "sns.boxplot(x = \"language_preferred\", y = \"time_spent_on_the_page\", data = df, palette = 'PuBu')\n",
    "plt.xticks(rotation = 60)\n",
    "plt.title('Relationship between Preferred Language and Time spent')\n",
    "plt.xlabel('Preferred Language')\n",
    "plt.ylabel('Time Spent on the Page')\n",
    "plt.show()"
   ]
  },
  {
   "cell_type": "markdown",
   "id": "e09a345e",
   "metadata": {},
   "source": [
    "#### Observations:\n",
    "* Users are spending around the same amount of time on the landing page irrespective of the language preferred.\n",
    "* The mean time spent on the page for English language is the largest followed by Spanish and lastly French"
   ]
  },
  {
   "cell_type": "markdown",
   "id": "23b36df1",
   "metadata": {},
   "source": [
    "### Relationship between landing_page and conversion"
   ]
  },
  {
   "cell_type": "code",
   "execution_count": 31,
   "id": "1d3ea3b9",
   "metadata": {},
   "outputs": [
    {
     "data": {
      "image/png": "[encoded data removed]",
      "text/plain": [
       "<Figure size 1080x504 with 1 Axes>"
      ]
     },
     "metadata": {
      "needs_background": "light"
     },
     "output_type": "display_data"
    }
   ],
   "source": [
    "plt.figure(figsize=(15,7))\n",
    "sns.countplot(df[\"landing_page\"],hue=df[\"converted\"],palette='PuBu')\n",
    "plt.xticks(rotation = 60)\n",
    "plt.title('Relationship between Landing Page and Conversion')\n",
    "plt.xlabel('Landing Page')\n",
    "plt.ylabel('Frequency')\n",
    "plt.show()"
   ]
  },
  {
   "cell_type": "markdown",
   "id": "ac691676",
   "metadata": {},
   "source": [
    "#### Observations: \n",
    "* The new landing page has an higher conversion rate than the old landing page\n",
    "* Most of the users that visited the new landing page were converted. However, this conversion is not reflecting for users landing on the old page."
   ]
  },
  {
   "cell_type": "markdown",
   "id": "c460c322",
   "metadata": {},
   "source": [
    "### Relationship between Conversion and preferred language"
   ]
  },
  {
   "cell_type": "code",
   "execution_count": 32,
   "id": "81c49421",
   "metadata": {},
   "outputs": [
    {
     "data": {
      "image/png": "[encoded data removed]",
      "text/plain": [
       "<Figure size 1440x720 with 1 Axes>"
      ]
     },
     "metadata": {
      "needs_background": "light"
     },
     "output_type": "display_data"
    }
   ],
   "source": [
    "plt.figure(figsize=(20,10))\n",
    "sns.countplot(df[\"converted\"],hue=df[\"language_preferred\"],palette='PuBu')\n",
    "plt.xticks(rotation = 60)\n",
    "plt.title('Relationship between Conversion and Preferred Language')\n",
    "plt.xlabel('Converted?')\n",
    "plt.ylabel('Frequency')\n",
    "plt.show()"
   ]
  },
  {
   "cell_type": "markdown",
   "id": "351d5309",
   "metadata": {},
   "source": [
    "#### Observations:\n",
    "* Users preferring English language are the most converted ones among all the languages.\n",
    "* French seem to have the least conversion rate"
   ]
  },
  {
   "cell_type": "markdown",
   "id": "d59eb28e",
   "metadata": {},
   "source": [
    "### Relationship between Conversion, Time Spent and preferred language"
   ]
  },
  {
   "cell_type": "code",
   "execution_count": 33,
   "id": "7bca19be",
   "metadata": {},
   "outputs": [
    {
     "data": {
      "image/png": "[encoded data removed]",
      "text/plain": [
       "<Figure size 1080x504 with 1 Axes>"
      ]
     },
     "metadata": {
      "needs_background": "light"
     },
     "output_type": "display_data"
    }
   ],
   "source": [
    "plt.figure(figsize=(15,7))\n",
    "sns.boxplot(x = \"language_preferred\", y = \"time_spent_on_the_page\", hue=\"converted\", data = df, palette = 'winter')\n",
    "plt.xticks(rotation = 60)\n",
    "plt.title('Relationship between conversion, Preferred Language and Time spent')\n",
    "plt.xlabel('Preferred Language')\n",
    "plt.ylabel('Time Spent on the Page')\n",
    "plt.show()"
   ]
  },
  {
   "cell_type": "markdown",
   "id": "6335a8e7",
   "metadata": {},
   "source": [
    "#### Observations:\n",
    "* Regardless of the language chosen, users spending more time on the landing page has become converted. \n",
    "* Users who are not getting converted tend to spend lesser time on the page."
   ]
  },
  {
   "cell_type": "markdown",
   "id": "f6a58eeb",
   "metadata": {},
   "source": [
    "### Relationship between landing page, Time Spent and preferred language"
   ]
  },
  {
   "cell_type": "code",
   "execution_count": 34,
   "id": "8027dd94",
   "metadata": {},
   "outputs": [
    {
     "data": {
      "image/png": "[encoded data removed]",
      "text/plain": [
       "<Figure size 1080x504 with 1 Axes>"
      ]
     },
     "metadata": {
      "needs_background": "light"
     },
     "output_type": "display_data"
    }
   ],
   "source": [
    "plt.figure(figsize=(15,7))\n",
    "sns.boxplot(x = \"landing_page\", y = \"time_spent_on_the_page\", hue=\"language_preferred\", data = df, palette = 'Set1')\n",
    "plt.xticks(rotation = 60)\n",
    "plt.title('Relationship between landing page, Preferred Language and Time spent')\n",
    "plt.xlabel('Preferred Language')\n",
    "plt.ylabel('Time Spent on the Page')\n",
    "plt.show()"
   ]
  },
  {
   "cell_type": "markdown",
   "id": "1c3fbcf5",
   "metadata": {},
   "source": [
    "#### Observations:\n",
    "* As can be seen from the visual display, users tend to spend more time on the new landing page than old landing page, irrespective of the language they are preferring.\n",
    "* However, we are not able to come to a specific conclusion of whether a language is preferred over the other on any landing page."
   ]
  },
  {
   "cell_type": "markdown",
   "id": "504ebd0f",
   "metadata": {},
   "source": [
    "## Do the users spend more time on the new landing page than the old landing page?"
   ]
  },
  {
   "cell_type": "code",
   "execution_count": 35,
   "id": "73f4f179",
   "metadata": {},
   "outputs": [
    {
     "data": {
      "image/png": "[encoded data removed]",
      "text/plain": [
       "<Figure size 1080x504 with 1 Axes>"
      ]
     },
     "metadata": {
      "needs_background": "light"
     },
     "output_type": "display_data"
    }
   ],
   "source": [
    "# Visual Analysis \n",
    "plt.figure(figsize=(15,7))\n",
    "sns.boxplot(x = \"landing_page\", y = \"time_spent_on_the_page\", data = df, palette = 'Set1')\n",
    "plt.xticks(rotation = 60)\n",
    "plt.title('Relationship between Landing Page and Time spent')\n",
    "plt.xlabel('Landing Page')\n",
    "plt.ylabel('Time Spent on the Page')\n",
    "plt.show()"
   ]
  },
  {
   "cell_type": "markdown",
   "id": "7840a90f",
   "metadata": {},
   "source": [
    "#### Visual analysis observation:\n",
    "* As observed from the plot, Users spend more time on the new landing page than the old one.\n",
    "* Let's do an in-depth analysis to figure out the same."
   ]
  },
  {
   "cell_type": "markdown",
   "id": "c0cf97ef",
   "metadata": {},
   "source": [
    "## Statistical Analysis"
   ]
  },
  {
   "cell_type": "markdown",
   "id": "54263477",
   "metadata": {},
   "source": [
    "## <a name='link9'>**Two Independent Sample T-test for Equality of Means - Unequal Std Dev**</a>"
   ]
  },
  {
   "cell_type": "markdown",
   "id": "471e4025",
   "metadata": {},
   "source": [
    "### Let's define the null and alternative hypothesis\n",
    "Let $\\mu_1, \\mu_2$ be the mean time spent by a user on the new landing page and old landing page respectively.\n",
    "\n",
    "We will test the null hypothesis\n",
    "\n",
    ">$H_0:\\mu_1=\\mu_2$\n",
    "\n",
    "against the alternate hypothesis\n",
    "\n",
    ">$H_a:\\mu_1>\\mu_2$\n"
   ]
  },
  {
   "cell_type": "markdown",
   "id": "b7040630",
   "metadata": {},
   "source": [
    "### Select the appropriate test\n",
    "The appropriate test would be Two independent Sample T-test for Equality of Means - Unequal Standard deviation"
   ]
  },
  {
   "cell_type": "markdown",
   "id": "6637fe81",
   "metadata": {},
   "source": [
    "### Decide the significance level\n",
    "Consider a significance level of 0.05."
   ]
  },
  {
   "cell_type": "markdown",
   "id": "b9ce2cac",
   "metadata": {},
   "source": [
    "### Prepare data for the test"
   ]
  },
  {
   "cell_type": "code",
   "execution_count": 36,
   "id": "9d88ebac",
   "metadata": {},
   "outputs": [
    {
     "name": "stdout",
     "output_type": "stream",
     "text": [
      "The mean time spent by a user on the new landing page is 6.22\n",
      "The mean time spent by a user on the old landing page is 4.53\n",
      "The standard deviation of time spent by a user on the new landing page is  1.82\n",
      "The standard deviation of time spent by a user on the old landing page is 2.58\n"
     ]
    }
   ],
   "source": [
    "# find the sample means and sample standard deviations for the time spent on new and old landing page \n",
    "\n",
    "print('The mean time spent by a user on the new landing page is ' + \n",
    "      str(round(df[df['landing_page']=='new'].time_spent_on_the_page.mean(),2)))\n",
    "\n",
    "print('The mean time spent by a user on the old landing page is ' + \n",
    "      str(round(df[df['landing_page']=='old'].time_spent_on_the_page.mean(),2)))\n",
    "\n",
    "print('The standard deviation of time spent by a user on the new landing page is  ' + \n",
    "      str(round(df[df['landing_page']=='new'].time_spent_on_the_page.std(),2)))\n",
    "\n",
    "print('The standard deviation of time spent by a user on the old landing page is ' + \n",
    "      str(round(df[df['landing_page']=='old'].time_spent_on_the_page.std(),2)))"
   ]
  },
  {
   "cell_type": "markdown",
   "id": "8f354ca8",
   "metadata": {},
   "source": [
    "### Let's test whether the T-test assumptions are satisfied or not\n",
    "\n",
    "* Continuous data - Yes, the time spent is measured on a continuous scale.\n",
    "* Normally distributed populations - Yes, we have seen in the visualisation that the time spent on the landing page is  normally distributed.\n",
    "* Independent populations - As we are taking random samples for two different groups, the two samples are from two independent populations.\n",
    "* Unequal population standard deviations - As the sample standard deviations are different, the population standard deviations may be assumed to be different.\n",
    "* Random sampling from the population - Yes, we are informed that the collected sample is a simple random sample.\n",
    "* As the assumptions are satisfied, We can use Two independent sample T-test for Equality of means - unequal standard deviation."
   ]
  },
  {
   "cell_type": "markdown",
   "id": "d2fc40c9",
   "metadata": {},
   "source": [
    "### Let's find the p-value"
   ]
  },
  {
   "cell_type": "code",
   "execution_count": 37,
   "id": "991d988e",
   "metadata": {},
   "outputs": [
    {
     "name": "stdout",
     "output_type": "stream",
     "text": [
      "The p-value is  0.0001392381225166549\n"
     ]
    }
   ],
   "source": [
    "#import the required functions\n",
    "from scipy.stats import ttest_ind\n",
    "\n",
    "# find the p-value\n",
    "test_stat, p_value = ttest_ind(df[df['landing_page']=='new'].time_spent_on_the_page, \n",
    "                               df[df['landing_page']=='old'].time_spent_on_the_page, \n",
    "                               equal_var = False, alternative = 'greater')\n",
    "print('The p-value is ', p_value)"
   ]
  },
  {
   "cell_type": "markdown",
   "id": "cda5a690",
   "metadata": {},
   "source": [
    "### Compare the p-value with $\\alpha$"
   ]
  },
  {
   "cell_type": "code",
   "execution_count": 38,
   "id": "dd6d1290",
   "metadata": {},
   "outputs": [
    {
     "name": "stdout",
     "output_type": "stream",
     "text": [
      "As the p-value 0.0001392381225166549 is less than the level of significance, we reject the null hypothesis.\n"
     ]
    }
   ],
   "source": [
    "# print the conclusion based on p-value\n",
    "if p_value < 0.05:\n",
    "    print(f'As the p-value {p_value} is less than the level of significance, we reject the null hypothesis.')\n",
    "else:\n",
    "    print(f'As the p-value {p_value} is greater than the level of significance, we fail to reject the null hypothesis.')"
   ]
  },
  {
   "cell_type": "markdown",
   "id": "e0067145",
   "metadata": {},
   "source": [
    "### Insight\n",
    "As the p-value (~0.000139) is less than the level of significance, we can reject the null hypothesis. Hence, we do have enough evidence to support the claim that on an average, users spend more time on the new landing page."
   ]
  },
  {
   "cell_type": "markdown",
   "id": "59ac9c91",
   "metadata": {},
   "source": [
    "## Is the conversion rate (the proportion of users who visit the landing page and get converted) for the new page greater than the conversion rate for the old page?"
   ]
  },
  {
   "cell_type": "code",
   "execution_count": 39,
   "id": "46f45770",
   "metadata": {},
   "outputs": [
    {
     "data": {
      "image/png": "[encoded data removed]",
      "text/plain": [
       "<Figure size 1080x504 with 1 Axes>"
      ]
     },
     "metadata": {
      "needs_background": "light"
     },
     "output_type": "display_data"
    }
   ],
   "source": [
    "#Visual Analysis\n",
    "plt.figure(figsize=(15,7))\n",
    "sns.countplot(df[\"landing_page\"],hue=df[\"converted\"],palette='Set1')\n",
    "plt.xticks(rotation = 60)\n",
    "plt.title('Relationship between Landing Page and Conversion')\n",
    "plt.xlabel('Landing Page')\n",
    "plt.ylabel('Frequency')\n",
    "plt.show()"
   ]
  },
  {
   "cell_type": "markdown",
   "id": "ce4db2d0",
   "metadata": {},
   "source": [
    "#### Observations:\n",
    "* The number of users who got converted after visiting the new landing page is more than that of old landing page.\n",
    "* An in-depth analysis is required for further verification."
   ]
  },
  {
   "cell_type": "markdown",
   "id": "7809888e",
   "metadata": {},
   "source": [
    "## Statistical Analysis"
   ]
  },
  {
   "cell_type": "markdown",
   "id": "cd4a202a",
   "metadata": {},
   "source": [
    "## <a name='link11'>**Two Proportion Z-test**</a>"
   ]
  },
  {
   "cell_type": "markdown",
   "id": "1721d0e4",
   "metadata": {},
   "source": [
    "### Let's write the null and alternative hypothesis\n",
    "Let $p_1,p_2$ be the proportions of users who visit the landing page and get converted for the new page and old page respectively.\n",
    "\n",
    "We can test the test null hypothesis\n",
    "\n",
    ">$H_0:p_1 =p_2$\n",
    "\n",
    "against the alternate hypothesis\n",
    "\n",
    ">$H_a:p_1 > p_2$"
   ]
  },
  {
   "cell_type": "markdown",
   "id": "1eebe93a",
   "metadata": {},
   "source": [
    "### Select appropriate test\n",
    "The appropriate test would be two proportion Z test."
   ]
  },
  {
   "cell_type": "markdown",
   "id": "d098c878",
   "metadata": {},
   "source": [
    "### Decide the significanc level\n",
    "We choose a significance level $\\alpha\\$ = 0.05"
   ]
  },
  {
   "cell_type": "markdown",
   "id": "4a6af92b",
   "metadata": {},
   "source": [
    "### Prepare the data for the test"
   ]
  },
  {
   "cell_type": "code",
   "execution_count": 40,
   "id": "7339562c",
   "metadata": {},
   "outputs": [
    {
     "name": "stdout",
     "output_type": "stream",
     "text": [
      "converted  landing_page\n",
      "no         old             29\n",
      "           new             17\n",
      "yes        new             33\n",
      "           old             21\n",
      "Name: landing_page, dtype: int64\n"
     ]
    }
   ],
   "source": [
    "# To find the number of users converted from the old and new landing page\n",
    "print(df.groupby(\"converted\")[\"landing_page\"].value_counts())"
   ]
  },
  {
   "cell_type": "markdown",
   "id": "439d71c6",
   "metadata": {},
   "source": [
    "#### Observations:\n",
    "* The number of users converted from the new landing page = 33\n",
    "* The number of users converted from the old landing page = 21\n",
    "* The total number of users who visited the new landing page = 50\n",
    "* The total number of users who visited the old landing page = 50"
   ]
  },
  {
   "cell_type": "code",
   "execution_count": 41,
   "id": "07ffbab8",
   "metadata": {},
   "outputs": [
    {
     "name": "stdout",
     "output_type": "stream",
     "text": [
      "A proportion of 0.66 users who visited the new landing page got converted.\n",
      "A proportion of 0.42 users who visited the new landing page got converted.\n"
     ]
    }
   ],
   "source": [
    "# To find the proportion of users who visited the landing page and got converted\n",
    "print('A proportion of' ,round(33/50,2), 'users who visited the new landing page got converted.') \n",
    "print('A proportion of' ,round(21/50,2), 'users who visited the new landing page got converted.')"
   ]
  },
  {
   "cell_type": "markdown",
   "id": "6c114648",
   "metadata": {},
   "source": [
    "### Let's test whether the Z-test assumptions are satisfied or not\n",
    "\n",
    "*   Binomally distributed population - Yes, the users who visit the landing page can get converted or not.\n",
    "*   Random sampling from the population - Yes, we are informed that the collected sample is a simple random sample.  \n",
    "*   Can the binomial distribution approximated to normal distribution - Yes. For binary data, CLT works slower than usual. The standard thing is to check whether np and n(1-p) are greater than or equal to 10. Here, n and p refer to the sample size and sample proportion respectively.\n",
    ">$np_1 = 50\\cdot \\frac{33}{50} =33 \\geq 10\\\\\n",
    "n(1-p_1) = 50 \\cdot \\frac{50-33}{50} =17 \\geq 10 \\\\\n",
    "np_2 = 50\\cdot \\frac{21}{50} =21 \\geq 10\\\\\n",
    "n(1-p_2) = 50 \\cdot \\frac{50-21}{50} =29 \\geq 10 $\n"
   ]
  },
  {
   "cell_type": "markdown",
   "id": "e0120ec3",
   "metadata": {},
   "source": [
    "### Let's find the p-value"
   ]
  },
  {
   "cell_type": "code",
   "execution_count": 42,
   "id": "dcc29e6e",
   "metadata": {},
   "outputs": [
    {
     "name": "stdout",
     "output_type": "stream",
     "text": [
      "The p-value is 0.008026308204056278\n"
     ]
    }
   ],
   "source": [
    "# import the required fuction\n",
    "from statsmodels.stats.proportion import proportions_ztest\n",
    "\n",
    "# set the counts of users who visit the landing page and get converted \n",
    "convert_count = np.array([33, 21])\n",
    "\n",
    "# set the sample sizes\n",
    "nobs = np.array([50, 50])\n",
    "\n",
    "# find the p-value\n",
    "test_stat, p_value = proportions_ztest(convert_count, nobs,alternative='larger')\n",
    "print('The p-value is ' + str(p_value))"
   ]
  },
  {
   "cell_type": "markdown",
   "id": "5ae37dfa",
   "metadata": {},
   "source": [
    "### Compare the p-value with $\\alpha\\$"
   ]
  },
  {
   "cell_type": "code",
   "execution_count": 43,
   "id": "1dd8d923",
   "metadata": {},
   "outputs": [
    {
     "name": "stdout",
     "output_type": "stream",
     "text": [
      "As the p-value 0.008026308204056278 is less than the level of significance, we reject the null hypothesis.\n"
     ]
    }
   ],
   "source": [
    "# print the conclusion based on p-value\n",
    "if p_value < 0.05:\n",
    "    print(f'As the p-value {p_value} is less than the level of significance, we reject the null hypothesis.')\n",
    "else:\n",
    "    print(f'As the p-value {p_value} is greater than the level of significance, we fail to reject the null hypothesis.')"
   ]
  },
  {
   "cell_type": "markdown",
   "id": "7da1dc8a",
   "metadata": {},
   "source": [
    "### Insight\n",
    "\n",
    "As the p-value is less than the significance level 0.05, we can reject the null hypothesis. Thus, we have enough statistical evidence to say that proportion of users who visit the new landing page and get converted is greater than that of old landing page"
   ]
  },
  {
   "cell_type": "markdown",
   "id": "5289a9f0",
   "metadata": {},
   "source": [
    "## Does the converted status depend on the preferred language? "
   ]
  },
  {
   "cell_type": "code",
   "execution_count": 44,
   "id": "2494b68b",
   "metadata": {},
   "outputs": [
    {
     "data": {
      "image/png": "[encoded data removed]",
      "text/plain": [
       "<Figure size 1440x720 with 1 Axes>"
      ]
     },
     "metadata": {
      "needs_background": "light"
     },
     "output_type": "display_data"
    }
   ],
   "source": [
    "#Visual analysis\n",
    "plt.figure(figsize=(20,10))\n",
    "sns.countplot(df[\"converted\"],hue=df[\"language_preferred\"],palette='PuBu')\n",
    "plt.xticks(rotation = 60)\n",
    "plt.title('Relationship between Conversion and Preferred Language')\n",
    "plt.xlabel('Converted?')\n",
    "plt.ylabel('Frequency')\n",
    "plt.show()"
   ]
  },
  {
   "cell_type": "markdown",
   "id": "91882d29",
   "metadata": {},
   "source": [
    "#### Observations:\n",
    "* English language users have converted more as subscribers.\n",
    "* Let us have a detailed analysis to find out whether conversion rate depends on preferred language or not."
   ]
  },
  {
   "cell_type": "markdown",
   "id": "d12377c3",
   "metadata": {},
   "source": [
    "## Statistical Analysis"
   ]
  },
  {
   "cell_type": "markdown",
   "id": "3ab90df6",
   "metadata": {},
   "source": [
    "## <a name='link14'>**Chi-Square Test for Independence**</a>"
   ]
  },
  {
   "cell_type": "markdown",
   "id": "88d6fa76",
   "metadata": {},
   "source": [
    "### Let's write the null and alternative hypothesis\n",
    "\n",
    "\n",
    "We will test the null hypothesis\n",
    "\n",
    ">$H_0:$ Converted status is independent of preffered language.\n",
    "\n",
    "against the alternate hypothesis\n",
    "\n",
    ">$H_a:$ Converted status depends on the preffered language."
   ]
  },
  {
   "cell_type": "markdown",
   "id": "8c7a33a3",
   "metadata": {},
   "source": [
    "### Let's test whether the assumptions are satisfied or not\n",
    "\n",
    "* Categorical variables - Yes\n",
    "* Expected value of the number of sample observations in each level of the variable is at least 5 - Yes, the number of observations in each level is greater than 5.\n",
    "* Random sampling from the population - Yes, we are informed that the collected sample is a simple random sample.\n"
   ]
  },
  {
   "cell_type": "markdown",
   "id": "4df9871f",
   "metadata": {},
   "source": [
    "### Select appropriate test\n",
    "Chi-square test for independence is the most appropriate test to find the relation between categorical variables."
   ]
  },
  {
   "cell_type": "markdown",
   "id": "1dd6d683",
   "metadata": {},
   "source": [
    "### Decide significance level\n",
    "We choose a significance level $\\alpha\\$ equal to 0.05."
   ]
  },
  {
   "cell_type": "markdown",
   "id": "a4bb9511",
   "metadata": {},
   "source": [
    "### Prepare data for the test"
   ]
  },
  {
   "cell_type": "markdown",
   "id": "4cdbd4e2",
   "metadata": {},
   "source": [
    "#### Let's create a contingency table"
   ]
  },
  {
   "cell_type": "code",
   "execution_count": 45,
   "id": "2057d220",
   "metadata": {},
   "outputs": [
    {
     "data": {
      "text/html": [
       "<div>\n",
       "<style scoped>\n",
       "    .dataframe tbody tr th:only-of-type {\n",
       "        vertical-align: middle;\n",
       "    }\n",
       "\n",
       "    .dataframe tbody tr th {\n",
       "        vertical-align: top;\n",
       "    }\n",
       "\n",
       "    .dataframe thead th {\n",
       "        text-align: right;\n",
       "    }\n",
       "</style>\n",
       "<table border=\"1\" class=\"dataframe\">\n",
       "  <thead>\n",
       "    <tr style=\"text-align: right;\">\n",
       "      <th>language_preferred</th>\n",
       "      <th>English</th>\n",
       "      <th>French</th>\n",
       "      <th>Spanish</th>\n",
       "    </tr>\n",
       "    <tr>\n",
       "      <th>converted</th>\n",
       "      <th></th>\n",
       "      <th></th>\n",
       "      <th></th>\n",
       "    </tr>\n",
       "  </thead>\n",
       "  <tbody>\n",
       "    <tr>\n",
       "      <th>no</th>\n",
       "      <td>11</td>\n",
       "      <td>19</td>\n",
       "      <td>16</td>\n",
       "    </tr>\n",
       "    <tr>\n",
       "      <th>yes</th>\n",
       "      <td>21</td>\n",
       "      <td>15</td>\n",
       "      <td>18</td>\n",
       "    </tr>\n",
       "  </tbody>\n",
       "</table>\n",
       "</div>"
      ],
      "text/plain": [
       "language_preferred  English  French  Spanish\n",
       "converted                                   \n",
       "no                       11      19       16\n",
       "yes                      21      15       18"
      ]
     },
     "execution_count": 45,
     "metadata": {},
     "output_type": "execute_result"
    }
   ],
   "source": [
    "#Create a contingency table of converted customers according to their preffered language\n",
    "conti = pd.crosstab(df.converted, df.language_preferred)\n",
    "conti"
   ]
  },
  {
   "cell_type": "markdown",
   "id": "d30de418",
   "metadata": {},
   "source": [
    "### Let us test whether assumptions are satisfied or not.\n",
    "* Categorical variables - Yes (converted and language_preferred).\n",
    "* Expected value of the number of sample observations in each level of the variable is at least 5 - Yes, the number of observations in each level is greater than 5.\n",
    "* Random sampling from the population - Yes, we are informed that the collected sample is a simple random sample.\n"
   ]
  },
  {
   "cell_type": "markdown",
   "id": "40f3d93e",
   "metadata": {},
   "source": [
    "### Let's find the p-value"
   ]
  },
  {
   "cell_type": "code",
   "execution_count": 46,
   "id": "778faa37",
   "metadata": {},
   "outputs": [
    {
     "name": "stdout",
     "output_type": "stream",
     "text": [
      "The p-value is 0.21298887487543447\n"
     ]
    }
   ],
   "source": [
    "# import the required function\n",
    "from scipy.stats import chi2_contingency\n",
    "\n",
    "# find the p-value\n",
    "chi, p_value, dof, expected = chi2_contingency(conti)\n",
    "\n",
    "# print the p-value\n",
    "print('The p-value is', p_value)"
   ]
  },
  {
   "cell_type": "markdown",
   "id": "4c046d75",
   "metadata": {},
   "source": [
    "### Compare the p value with $\\alpha\\$\n"
   ]
  },
  {
   "cell_type": "code",
   "execution_count": 47,
   "id": "67eed017",
   "metadata": {},
   "outputs": [
    {
     "name": "stdout",
     "output_type": "stream",
     "text": [
      "As the p-value 0.21298887487543447 is greater than the level of significance, we fail to reject the null hypothesis.\n"
     ]
    }
   ],
   "source": [
    "# print the conclusion based on p-value\n",
    "if p_value < 0.05:\n",
    "    print(f'As the p-value {p_value} is less than the level of significance, we reject the null hypothesis.')\n",
    "else:\n",
    "    print(f'As the p-value {p_value} is greater than the level of significance, we fail to reject the null hypothesis.')"
   ]
  },
  {
   "cell_type": "markdown",
   "id": "36fb0ed4",
   "metadata": {},
   "source": [
    "### Insight\n",
    "As the p-value is much greater than the significance level, we fail to reject the null hypothesis. Hence, we do not have enough statistical significance to conclude that the converted status depends on the language preffered at 5% significance level."
   ]
  },
  {
   "cell_type": "markdown",
   "id": "7dc284e9",
   "metadata": {},
   "source": [
    "## Is the mean time spent on the new page same for the different language users?"
   ]
  },
  {
   "cell_type": "code",
   "execution_count": 48,
   "id": "b24f7cbb",
   "metadata": {},
   "outputs": [
    {
     "data": {
      "image/png": "[encoded data removed]",
      "text/plain": [
       "<Figure size 1080x504 with 1 Axes>"
      ]
     },
     "metadata": {
      "needs_background": "light"
     },
     "output_type": "display_data"
    }
   ],
   "source": [
    "#Visual analysis\n",
    "plt.figure(figsize=(15,7))\n",
    "sns.boxplot(x = \"language_preferred\", y = \"time_spent_on_the_page\", data = df[df['landing_page']=='new'], palette = 'Set1')\n",
    "plt.xticks(rotation = 60)\n",
    "plt.title('Relationship between Preferred Language and Time spent on new landing page')\n",
    "plt.xlabel('Preferred Language')\n",
    "plt.ylabel('Time Spent on the Page')\n",
    "plt.show()"
   ]
  },
  {
   "cell_type": "markdown",
   "id": "2d03ae8a",
   "metadata": {},
   "source": [
    "#### Observations:\n",
    "* Users are spending on an average around the same time on the landing page, old or new, and with this visualization we will not be able to come to a conclusion. So let's move to a statistical analysis of the same."
   ]
  },
  {
   "cell_type": "markdown",
   "id": "2440500a",
   "metadata": {},
   "source": [
    "## Statistical Analysis"
   ]
  },
  {
   "cell_type": "markdown",
   "id": "5c32079a",
   "metadata": {},
   "source": [
    "## <a name='link15'>**One-way ANOVA Test**</a>"
   ]
  },
  {
   "cell_type": "markdown",
   "id": "8d3bb24c",
   "metadata": {},
   "source": [
    "### Let's write the null and alternative hypothesis\n",
    "\n",
    "Let $\\mu_1, \\mu_2, \\mu_3$ be the meantime spent on the page for French, Spanish and English respectively.\n",
    "\n",
    "We will test the null hypothesis\n",
    "\n",
    ">$H_0: \\mu_1 = \\mu_2 = \\mu_3$\n",
    "\n",
    "against the alternative hypothesis\n",
    "\n",
    ">$H_a: $ At least one mean time spent is different from the rest.\n"
   ]
  },
  {
   "cell_type": "markdown",
   "id": "8be4da09",
   "metadata": {},
   "source": [
    "### Select appropriate test\n",
    "One-way ANOVA Test is the most appropriate test."
   ]
  },
  {
   "cell_type": "markdown",
   "id": "45901e17",
   "metadata": {},
   "source": [
    "The normality and equality of variance assumptions need to be checked. \n",
    "\n",
    "* For testing of normality, Shapiro-Wilk’s test is applied to the response variable.\n",
    "\n",
    "* For equality of variance, Levene test is applied to the response variable."
   ]
  },
  {
   "cell_type": "markdown",
   "id": "2e2705a8",
   "metadata": {},
   "source": [
    "### Normality Assumption check"
   ]
  },
  {
   "cell_type": "markdown",
   "id": "8340e114",
   "metadata": {},
   "source": [
    "### Shapiro-Wilk’s test\n",
    "\n",
    "We will test the null hypothesis\n",
    "\n",
    ">$H_0:$ Time spent on the landing page follows a normal distribution\n",
    "\n",
    "against the alternative hypothesis\n",
    "\n",
    ">$H_a:$ Time spent on the landing page does not follow a normal distribution"
   ]
  },
  {
   "cell_type": "code",
   "execution_count": 49,
   "id": "049d09fd",
   "metadata": {},
   "outputs": [
    {
     "name": "stdout",
     "output_type": "stream",
     "text": [
      "The p-value is 0.8040016293525696\n"
     ]
    }
   ],
   "source": [
    "# Assumption 1: Normality\n",
    "# import the required function\n",
    "from scipy import stats\n",
    "\n",
    "# find the p-value\n",
    "w, p_value = stats.shapiro(df[df['landing_page']=='new']['time_spent_on_the_page']) \n",
    "print('The p-value is', p_value)"
   ]
  },
  {
   "cell_type": "markdown",
   "id": "1be5d9f6",
   "metadata": {},
   "source": [
    "#### Observations:\n",
    "Since p-value of the test is very large, we fail to reject the null hypothesis that the response follows the normal distribution."
   ]
  },
  {
   "cell_type": "markdown",
   "id": "f919866b",
   "metadata": {},
   "source": [
    "### Homogeniety of variance assumption check"
   ]
  },
  {
   "cell_type": "markdown",
   "id": "78f3e6d3",
   "metadata": {},
   "source": [
    "### Levene’s test\n",
    "\n",
    "We will test the null hypothesis\n",
    "\n",
    ">$H_0$: All the population variances are equal\n",
    "\n",
    "against the alternative hypothesis\n",
    "\n",
    ">$H_a$: At least one variance is different from the rest"
   ]
  },
  {
   "cell_type": "code",
   "execution_count": 50,
   "id": "3729babf",
   "metadata": {},
   "outputs": [
    {
     "name": "stdout",
     "output_type": "stream",
     "text": [
      "The p-value is 0.46711357711340173\n"
     ]
    }
   ],
   "source": [
    "#Assumption 2: Homogeneity of Variance\n",
    "\n",
    "#import the required function\n",
    "\n",
    "from scipy.stats import levene\n",
    "\n",
    "statistic, p_value = levene( df[(df['landing_page'] == 'new') & (df['language_preferred'] == 'English')]\n",
    "                            ['time_spent_on_the_page'],\n",
    "    df[(df['landing_page'] == 'new') & (df['language_preferred'] == 'French')]\n",
    "                            ['time_spent_on_the_page'],\n",
    "    df[(df['landing_page'] == 'new') & (df['language_preferred'] == 'Spanish')]\n",
    "                            ['time_spent_on_the_page'])\n",
    "\n",
    "#find the p-value\n",
    "\n",
    "print('The p-value is', p_value)"
   ]
  },
  {
   "cell_type": "markdown",
   "id": "9bbd33b1",
   "metadata": {},
   "source": [
    "#### Observations:\n",
    "Since the p-value is large, we fail to reject the null hypothesis of homogeneity of variances."
   ]
  },
  {
   "cell_type": "markdown",
   "id": "733213c7",
   "metadata": {},
   "source": [
    "### Let's test whether the assumptions are satisfied or not\n",
    "\n",
    "* The populations are normally distributed - Yes, the normality assumption is verified using the Shapiro-Wilk’s test.\n",
    "* Samples are independent simple random samples - Yes, we are informed that the collected sample is a simple random sample.\n",
    "* Population variances are equal - Yes, the homogeneity of variance assumption is verified using the Levene's test."
   ]
  },
  {
   "cell_type": "markdown",
   "id": "f73b5213",
   "metadata": {},
   "source": [
    "### Decide significance level\n",
    "We choose a significance level of 0.05."
   ]
  },
  {
   "cell_type": "markdown",
   "id": "cd718e9c",
   "metadata": {},
   "source": [
    "### Prepare data for the test"
   ]
  },
  {
   "cell_type": "code",
   "execution_count": 51,
   "id": "b1dcab59",
   "metadata": {},
   "outputs": [],
   "source": [
    "new_page = df[df['landing_page']=='new']\n",
    "English = new_page[new_page['language_preferred']=='English']['time_spent_on_the_page']\n",
    "French = new_page[new_page['language_preferred']=='French']['time_spent_on_the_page']\n",
    "Spanish = new_page[new_page['language_preferred']=='Spanish']['time_spent_on_the_page']"
   ]
  },
  {
   "cell_type": "markdown",
   "id": "01e62a96",
   "metadata": {},
   "source": [
    "### Let's find the p-value"
   ]
  },
  {
   "cell_type": "code",
   "execution_count": 52,
   "id": "560afe99",
   "metadata": {},
   "outputs": [
    {
     "name": "stdout",
     "output_type": "stream",
     "text": [
      "The p-value is 0.43204138694325955\n"
     ]
    }
   ],
   "source": [
    "#import the required function\n",
    "from scipy.stats import f_oneway\n",
    "\n",
    "# perform one-way anova test\n",
    "test_stat, p_value = f_oneway(English,French,Spanish)\n",
    "print('The p-value is ' + str(p_value))"
   ]
  },
  {
   "cell_type": "markdown",
   "id": "551c11e4",
   "metadata": {},
   "source": [
    "### Compare p value with $\\alpha\\$"
   ]
  },
  {
   "cell_type": "code",
   "execution_count": 53,
   "id": "2bb58af0",
   "metadata": {},
   "outputs": [
    {
     "name": "stdout",
     "output_type": "stream",
     "text": [
      "The p-value 0.43204138694325955 is greater than the level of significance. So, we fail to reject the null hypothesis.\n"
     ]
    }
   ],
   "source": [
    "# print the conclusion based on p-value\n",
    "if p_value < 0.05:\n",
    "    print(f'The p-value {p_value} is less than the level of significance. So, we reject the null hypothesis.')\n",
    "else:\n",
    "    print(f'The p-value {p_value} is greater than the level of significance. So, we fail to reject the null hypothesis.')"
   ]
  },
  {
   "cell_type": "markdown",
   "id": "b176761e",
   "metadata": {},
   "source": [
    "### Insight"
   ]
  },
  {
   "cell_type": "markdown",
   "id": "3fec6129",
   "metadata": {},
   "source": [
    "As the p-value is much greater than the significance level, we fail to reject the null hypothesis. Hence, we have enough statistical significance to conclude that mean time spent on the landing page is same for different language users at 5% significance level."
   ]
  },
  {
   "cell_type": "markdown",
   "id": "f19cd736",
   "metadata": {},
   "source": [
    "## Conclusion:\n",
    "* When a user spend more amount of time on the landing page they tend to get converted to subscribers.\n",
    "* 54% of the total users chose to be subscribers after visiting the landing page irrespective of the page being old or new.\n",
    "* The users in the treatment group, who are using the new landing page, are spending more time on their page.\n",
    "* The average time spent by users who are converting themselves to subscribers are more than the ones who are not.\n",
    "* Users are spending around the same amount of time on the landing page irrespective of the language preferred.\n",
    "* The new landing page has an higher conversion rate than the old landing page.\n",
    "* The conversion rate is independent of the language preferred."
   ]
  },
  {
   "cell_type": "markdown",
   "id": "b3a2f5af",
   "metadata": {},
   "source": [
    "## Business Recommendations:\n",
    "* Now that, it is statistically proven that users landing on the new page are getting converted to subscribers, we could officially replace the old landing page with the newer one.\n",
    "* As we have seen, the presence of three different languages did not deter users from getting converted, there could be a chance that adding more languages could bring in more subscribers.\n",
    "* Analysing in-depth about the demographics of the users could bring in more insights for user conversion.\n",
    "* This would empower us to bring in demographic specific subscription offers on the landing page which will attract more users."
   ]
  }
 ],
 "metadata": {
  "kernelspec": {
   "display_name": "Python 3",
   "language": "python",
   "name": "python3"
  },
  "language_info": {
   "codemirror_mode": {
    "name": "ipython",
    "version": 3
   },
   "file_extension": ".py",
   "mimetype": "text/x-python",
   "name": "python",
   "nbconvert_exporter": "python",
   "pygments_lexer": "ipython3",
   "version": "3.8.8"
  }
 },
 "nbformat": 4,
 "nbformat_minor": 5
}
